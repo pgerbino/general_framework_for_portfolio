{
 "cells": [
  {
   "cell_type": "markdown",
   "metadata": {},
   "source": [
    "# Introduction\n",
    "\n",
    "This Jupyter Notebook demonstrates the application of various abstract classes in the context of portfolio optimization. It utilizes classes for forecasting, generative modeling, and performance attribution to manage and optimize a model portfolio of abstract securities.\n"
   ]
  },
  {
   "cell_type": "code",
   "execution_count": 3,
   "metadata": {},
   "outputs": [],
   "source": [
    "\n",
    "# Setup\n",
    "\n",
    "## Import Libraries\n",
    "\n",
    "import numpy as np\n",
    "import pandas as pd\n",
    "import matplotlib.pyplot as plt\n",
    "from abc import ABC, abstractmethod\n"
   ]
  },
  {
   "cell_type": "markdown",
   "metadata": {},
   "source": [
    "# Create dummy securities"
   ]
  },
  {
   "cell_type": "code",
   "execution_count": 9,
   "metadata": {},
   "outputs": [
    {
     "data": {
      "text/html": [
       "<div>\n",
       "<style scoped>\n",
       "    .dataframe tbody tr th:only-of-type {\n",
       "        vertical-align: middle;\n",
       "    }\n",
       "\n",
       "    .dataframe tbody tr th {\n",
       "        vertical-align: top;\n",
       "    }\n",
       "\n",
       "    .dataframe thead th {\n",
       "        text-align: right;\n",
       "    }\n",
       "</style>\n",
       "<table border=\"1\" class=\"dataframe\">\n",
       "  <thead>\n",
       "    <tr style=\"text-align: right;\">\n",
       "      <th></th>\n",
       "      <th>Security_0</th>\n",
       "      <th>Security_1</th>\n",
       "      <th>Security_2</th>\n",
       "      <th>Security_3</th>\n",
       "      <th>Security_4</th>\n",
       "      <th>Security_5</th>\n",
       "      <th>Security_6</th>\n",
       "      <th>Security_7</th>\n",
       "      <th>Security_8</th>\n",
       "      <th>Security_9</th>\n",
       "    </tr>\n",
       "  </thead>\n",
       "  <tbody>\n",
       "    <tr>\n",
       "      <th>0</th>\n",
       "      <td>0.496714</td>\n",
       "      <td>0.138264</td>\n",
       "      <td>0.647689</td>\n",
       "      <td>1.523030</td>\n",
       "      <td>0.234153</td>\n",
       "      <td>0.234137</td>\n",
       "      <td>1.579213</td>\n",
       "      <td>0.767435</td>\n",
       "      <td>0.469474</td>\n",
       "      <td>0.542560</td>\n",
       "    </tr>\n",
       "    <tr>\n",
       "      <th>1</th>\n",
       "      <td>0.463418</td>\n",
       "      <td>0.465730</td>\n",
       "      <td>0.241962</td>\n",
       "      <td>1.913280</td>\n",
       "      <td>1.724918</td>\n",
       "      <td>0.562288</td>\n",
       "      <td>1.012831</td>\n",
       "      <td>0.314247</td>\n",
       "      <td>0.908024</td>\n",
       "      <td>1.412304</td>\n",
       "    </tr>\n",
       "    <tr>\n",
       "      <th>2</th>\n",
       "      <td>1.465649</td>\n",
       "      <td>0.225776</td>\n",
       "      <td>0.067528</td>\n",
       "      <td>1.424748</td>\n",
       "      <td>0.544383</td>\n",
       "      <td>0.110923</td>\n",
       "      <td>1.150994</td>\n",
       "      <td>0.375698</td>\n",
       "      <td>0.600639</td>\n",
       "      <td>0.291694</td>\n",
       "    </tr>\n",
       "    <tr>\n",
       "      <th>3</th>\n",
       "      <td>0.601707</td>\n",
       "      <td>1.852278</td>\n",
       "      <td>0.013497</td>\n",
       "      <td>1.057711</td>\n",
       "      <td>0.822545</td>\n",
       "      <td>1.220844</td>\n",
       "      <td>0.208864</td>\n",
       "      <td>1.959670</td>\n",
       "      <td>1.328186</td>\n",
       "      <td>0.196861</td>\n",
       "    </tr>\n",
       "    <tr>\n",
       "      <th>4</th>\n",
       "      <td>0.738467</td>\n",
       "      <td>0.171368</td>\n",
       "      <td>0.115648</td>\n",
       "      <td>0.301104</td>\n",
       "      <td>1.478522</td>\n",
       "      <td>0.719844</td>\n",
       "      <td>0.460639</td>\n",
       "      <td>1.057122</td>\n",
       "      <td>0.343618</td>\n",
       "      <td>1.763040</td>\n",
       "    </tr>\n",
       "  </tbody>\n",
       "</table>\n",
       "</div>"
      ],
      "text/plain": [
       "   Security_0  Security_1  Security_2  Security_3  Security_4  Security_5  \\\n",
       "0    0.496714    0.138264    0.647689    1.523030    0.234153    0.234137   \n",
       "1    0.463418    0.465730    0.241962    1.913280    1.724918    0.562288   \n",
       "2    1.465649    0.225776    0.067528    1.424748    0.544383    0.110923   \n",
       "3    0.601707    1.852278    0.013497    1.057711    0.822545    1.220844   \n",
       "4    0.738467    0.171368    0.115648    0.301104    1.478522    0.719844   \n",
       "\n",
       "   Security_6  Security_7  Security_8  Security_9  \n",
       "0    1.579213    0.767435    0.469474    0.542560  \n",
       "1    1.012831    0.314247    0.908024    1.412304  \n",
       "2    1.150994    0.375698    0.600639    0.291694  \n",
       "3    0.208864    1.959670    1.328186    0.196861  \n",
       "4    0.460639    1.057122    0.343618    1.763040  "
      ]
     },
     "execution_count": 9,
     "metadata": {},
     "output_type": "execute_result"
    }
   ],
   "source": [
    "# Number of securities\n",
    "num_securities = 10\n",
    "\n",
    "# Generate random price data\n",
    "np.random.seed(42)\n",
    "price_data = np.random.randn(100, num_securities)\n",
    "\n",
    "# Convert to DataFrame\n",
    "security_prices = pd.DataFrame(price_data, columns=[f'Security_{i}' for i in range(num_securities)]).abs()\n",
    "\n",
    "# Display the first few rows of the DataFrame\n",
    "security_prices.head()\n"
   ]
  },
  {
   "cell_type": "code",
   "execution_count": 10,
   "metadata": {},
   "outputs": [
    {
     "data": {
      "text/plain": [
       "0    0.607970\n",
       "1    0.961862\n",
       "2    0.745617\n",
       "3    0.869548\n",
       "4    0.561022\n",
       "dtype: float64"
      ]
     },
     "execution_count": 10,
     "metadata": {},
     "output_type": "execute_result"
    }
   ],
   "source": [
    "## Constructing the Simplest Portfolio with 5 Securities\n",
    "\n",
    "# Selecting 5 securities for the portfolio\n",
    "selected_securities = security_prices.columns[:5]\n",
    "\n",
    "# Constructing a simple equally weighted portfolio\n",
    "weights = np.array([0.2] * 5)  # Equal weight of 0.2 (20%) for each security\n",
    "\n",
    "# Calculating the weighted portfolio prices\n",
    "portfolio_prices = security_prices[selected_securities].dot(weights)\n",
    "\n",
    "# Display the first few rows of the portfolio prices\n",
    "portfolio_prices.head()"
   ]
  }
 ],
 "metadata": {
  "kernelspec": {
   "display_name": ".venv",
   "language": "python",
   "name": "python3"
  },
  "language_info": {
   "codemirror_mode": {
    "name": "ipython",
    "version": 3
   },
   "file_extension": ".py",
   "mimetype": "text/x-python",
   "name": "python",
   "nbconvert_exporter": "python",
   "pygments_lexer": "ipython3",
   "version": "3.11.2"
  }
 },
 "nbformat": 4,
 "nbformat_minor": 2
}
